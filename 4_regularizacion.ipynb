{
  "nbformat": 4,
  "nbformat_minor": 0,
  "metadata": {
    "colab": {
      "name": "4_regularizacion.ipynb",
      "provenance": [],
      "collapsed_sections": [],
      "include_colab_link": true
    },
    "kernelspec": {
      "name": "python3",
      "display_name": "Python 3"
    },
    "language_info": {
      "name": "python"
    }
  },
  "cells": [
    {
      "cell_type": "markdown",
      "metadata": {
        "id": "view-in-github",
        "colab_type": "text"
      },
      "source": [
        "<a href=\"https://colab.research.google.com/github/larax2do/AprendiendoIA/blob/main/4_regularizacion.ipynb\" target=\"_parent\"><img src=\"https://colab.research.google.com/assets/colab-badge.svg\" alt=\"Open In Colab\"/></a>"
      ]
    },
    {
      "cell_type": "markdown",
      "metadata": {
        "id": "eHG6Va5PlNsn"
      },
      "source": [
        "## Regresion no Lineal"
      ]
    },
    {
      "cell_type": "markdown",
      "metadata": {
        "id": "ZGoN3RAQTDPK"
      },
      "source": [
        "\n",
        "\n",
        "*Apuntes de Thales @executorLarax*\n",
        "\n",
        "En el mundo real, las generalmente los datos no son una recta, son un gusanito. Por lo cual necesitamos una funcion de mayor grado\n",
        "\n",
        "Términos\n",
        "\n",
        "\n",
        "*   $n$ = Numero de Caracteristicas\n",
        "*   $m$ = Tamaño del conjunto de entrenamiento\n",
        "*   $x^{(i)}$ = Vector $(i)$ del conjunto de entrenamiento con las caracteristicas\n",
        "*   $x^{(i)}_j$ = $(x^{(i)})^j$ \n",
        "*   $w_j$= parametros a optomizar de la funcion Costo.\n",
        "\n",
        "\n",
        "|$x_0$  | Caracteristica 1 ($x_1$) | Caracteristica 2 ($x_2$) | Caracteristica 3 ($x_3$)| ... | Caracteristica n($x_n$) | $y$ |\n",
        "| -- | -- | -- | -- | -- | -- | -- | \n",
        "| 1 | $(x^{(1)})^1$ | $(x^{(1)})^2$ | $(x^{(1)})^3$ | ... | $(x^{(1)})^n$ | $y^{(1)}$ |\n",
        "| 1 | $(x^{(2)})^1$ | $(x^{(2)})^2$ | $(x^{(2)})^3$ | ... | $(x^{(2)})^n$ | $y^{(2)}$ |\n",
        "| 1 | $(x^{(3)})^1$ | $(x^{(3)})^2$ | $(x^{(3)})^3$ | ... | $(x^{(3)})^n$ | $y^{(3)}$ |\n",
        "| $...$ | $...$ | $...$ | $...$ | ... | $...$ | $...$ |\n",
        "| 1 | $(x^{(m)})^1$ | $(x^{(m)})^2$ | $(x^{(m)})^3$ | ... | $(x^{(m)})^n$ | $y^{(m)}$ |"
      ]
    },
    {
      "cell_type": "code",
      "metadata": {
        "id": "ob3rfjhgCGCe"
      },
      "source": [
        "import numpy as np\n",
        "import matplotlib.pyplot as plt"
      ],
      "execution_count": 4,
      "outputs": []
    },
    {
      "cell_type": "markdown",
      "metadata": {
        "id": "FbnEDhptCRdU"
      },
      "source": [
        "Nuestros datos estan ahora asi, como un gusanito. Ya no nos sirve(o tal vez si) un recta, necesitamos una funcion de mayor grado."
      ]
    },
    {
      "cell_type": "code",
      "metadata": {
        "colab": {
          "base_uri": "https://localhost:8080/",
          "height": 282
        },
        "id": "fSKLYyGWlWKF",
        "outputId": "789b4918-0c64-4c03-ecf0-a6daca927161"
      },
      "source": [
        "x_ds = np.arange(0,1,0.1)\n",
        "y_ds = [ np.sin(2*i*np.pi) + np.random.normal(0,0.2) for i in x_ds]\n",
        "y_pr = [ np.sin(2*i*np.pi)  for i in x_ds]\n",
        "\n",
        "plt.plot(x_ds, y_ds, '*')\n",
        "#plt.plot(x_ds, y_pr)\n",
        "\n"
      ],
      "execution_count": 31,
      "outputs": [
        {
          "output_type": "execute_result",
          "data": {
            "text/plain": [
              "[<matplotlib.lines.Line2D at 0x7f85d9b0a990>]"
            ]
          },
          "metadata": {
            "tags": []
          },
          "execution_count": 31
        },
        {
          "output_type": "display_data",
          "data": {
            "image/png": "[encoded data removed]",
            "text/plain": [
              "<Figure size 432x288 with 1 Axes>"
            ]
          },
          "metadata": {
            "tags": [],
            "needs_background": "light"
          }
        }
      ]
    },
    {
      "cell_type": "markdown",
      "metadata": {
        "id": "wqOCXsVHJ41H"
      },
      "source": [
        "## Hipotesis"
      ]
    },
    {
      "cell_type": "markdown",
      "metadata": {
        "id": "HTf9QDjvZ86d"
      },
      "source": [
        "## Hipotesis\n",
        "\n",
        "$h(x^{(i)})= w_0*(1)+w_1(x^{(i)})^1+w_2(x^{(i)})^2+w_3(x^{(i)})^3+...+w_n(x^{(i)})^n$\n",
        "\n",
        "Por conveniencia $x^{(i)}_0=1$\n",
        "\n",
        "Entonces, podemos expresar las $x's$ y los $w's$ de forma matricial\n",
        "\n",
        "$\n",
        "X^{(i)}=\n",
        "\\begin{bmatrix}\n",
        "1&\n",
        "(x^{(i)})^1&\n",
        "(x^{(i)})^2&\n",
        "(x^{(i)})^3&\n",
        "...&\n",
        "(x^{(i)})^n&\n",
        "\\end{bmatrix}\\in \\mathbb{R}^{n+1}\n",
        "$\n",
        "\n",
        "\n",
        "$\n",
        "W=\n",
        "\\begin{bmatrix}\n",
        "w_0&\n",
        "w_1&\n",
        "w_2&\n",
        "w_3&\n",
        "...&\n",
        "w_n&\n",
        "\\end{bmatrix}\\in \\mathbb{R}^{n+1}\n",
        "$\n",
        "\n",
        "y la hipotesis expresado de forma matricial:\n",
        "\n",
        "**$h(X^{(i)})=W^tX^{(i)}$**"
      ]
    },
    {
      "cell_type": "code",
      "metadata": {
        "id": "2HI5ucSBbZAV"
      },
      "source": [
        "def h(x,w):\n",
        "  m = len(w)-1\n",
        "  #print(\"h\")\n",
        "  #print(x)\n",
        "  #print(w)\n",
        "  #print(\"/h\")\n",
        "  return sum([w[0]]+[ w[j+1]*(x**(j+1)) for j in range(m)])"
      ],
      "execution_count": 6,
      "outputs": []
    },
    {
      "cell_type": "code",
      "metadata": {
        "colab": {
          "base_uri": "https://localhost:8080/"
        },
        "id": "JrO0Jpqvb_KE",
        "outputId": "140d50be-ce15-435f-f125-1c8615e5a7ec"
      },
      "source": [
        "a=[[2,3,4],[1,2,3,4]]\n",
        "b=[2,3,4,5]\n",
        "#for i in zip(a[1],b):\n",
        "#  print(i)\n",
        "print(h(a[0][0],b))"
      ],
      "execution_count": 7,
      "outputs": [
        {
          "output_type": "stream",
          "text": [
            "64\n"
          ],
          "name": "stdout"
        }
      ]
    },
    {
      "cell_type": "markdown",
      "metadata": {
        "id": "zfsbDV-bdFeN"
      },
      "source": [
        "## Funcion Costo(MSE)\n",
        "$J(w_0,w_1,...,w_n) = \\frac{1}{2m}\\sum_{i=1}^{m}(y^{(i)}-h(x^{(i)}))^2+\\lambda \\sum_{j=1}^nw_j^2$"
      ]
    },
    {
      "cell_type": "code",
      "metadata": {
        "id": "ryo7MBe1dRHe"
      },
      "source": [
        "def Costo(y,x,w,lamda):\n",
        "  return sum( [ (e[0] - h(e[1],w))**2 for  e in zip(y,x) ])/(2*len(y))+lamda*sum([j**2 for j in w])\n",
        "  "
      ],
      "execution_count": 11,
      "outputs": []
    },
    {
      "cell_type": "code",
      "metadata": {
        "colab": {
          "base_uri": "https://localhost:8080/"
        },
        "id": "flBswJvkdlw1",
        "outputId": "d315c363-6666-44b4-ac2c-14cb2a7bf223"
      },
      "source": [
        "a=len(x_ds)+1\n",
        "w=np.random.rand(a)\n",
        "Costo(y_ds,x_ds,w,1000)"
      ],
      "execution_count": 12,
      "outputs": [
        {
          "output_type": "execute_result",
          "data": {
            "text/plain": [
              "1531.4502864472765"
            ]
          },
          "metadata": {
            "tags": []
          },
          "execution_count": 12
        }
      ]
    },
    {
      "cell_type": "markdown",
      "metadata": {
        "id": "sTPjT-Wid6a9"
      },
      "source": [
        "## Gradiente Descendiente\n",
        "\n",
        "$\\frac{\\partial J}{w_j}  = \\frac{1}{m}\\sum_{i=0}^m (y^{(i)} - h(x^{(i)}))*-(x^{(i)})^j +2\\lambda w_j$\n"
      ]
    },
    {
      "cell_type": "code",
      "metadata": {
        "id": "9f0xUVFUeQl6"
      },
      "source": [
        "def grad(y,x,w,lamda):\n",
        "  n = len(w)\n",
        "  m = len(x)\n",
        "  return [sum([ (e[0] - h(e[1],w))*(-e[1]**j) for e in zip(y,x)])/m +2*lamda*w[j] for j in range(n)]\n",
        "  #return [ sum([ (y[i] - hs[i])*(-x[i]**j) for i in range(n) ])/(n) for j in range(m)  ]"
      ],
      "execution_count": 16,
      "outputs": []
    },
    {
      "cell_type": "markdown",
      "metadata": {
        "id": "NzLZKybtiJCG"
      },
      "source": [
        "## Actualizacion de los parametros $w$\n",
        "\n",
        "$w_j := w_j - \\alpha\\frac{\\partial J}{w_j}$"
      ]
    },
    {
      "cell_type": "code",
      "metadata": {
        "id": "tyRNIuNOiL_V"
      },
      "source": [
        "def train(x_ds, y_ds,w, epochs, alpha,lamda):\n",
        "  #w = np.random.rand(2)\n",
        "  #list_error = []\n",
        "  #time = []\n",
        "  \n",
        "  for i in range(epochs):\n",
        "    Err = Costo(y_ds,x_ds,w,lamda)\n",
        "    list_error.append(Err)\n",
        "    time.append(i)\n",
        "    \n",
        "    gradiente = grad(y_ds,x_ds,w,lamda)\n",
        "    for j in range(len(w)):\n",
        "      w[j] = w[j] - alpha*gradiente[j]"
      ],
      "execution_count": 19,
      "outputs": []
    },
    {
      "cell_type": "code",
      "metadata": {
        "colab": {
          "base_uri": "https://localhost:8080/",
          "height": 546
        },
        "id": "Hf1by-XtiPdd",
        "outputId": "c86f7a41-0154-4432-9308-be86f5047eee"
      },
      "source": [
        "w = np.random.rand(10)\n",
        "y_pd  = [ h(i,w) for i in x_ds ]\n",
        "plt.plot(x_ds,y_pd)\n",
        "\n",
        "time=[]\n",
        "list_error=[]\n",
        "train(x_ds,y_ds,w, 10000,0.99,0)\n",
        "\n",
        "\n",
        "\n",
        "#print(list_error)\n",
        "\n",
        "print(w)\n",
        "\n",
        "plt.plot(x_ds, y_ds,'*')\n",
        "plt.plot(x_ds, [ h(i,w) for i in x_ds],color='red')\n",
        "plt.show()\n",
        "\n",
        "plt.plot(time,list_error)\n",
        "plt.show()"
      ],
      "execution_count": 43,
      "outputs": [
        {
          "output_type": "stream",
          "text": [
            "[ -0.05631031   6.32286879 -11.56524515  -4.28426924   2.18571708\n",
            "   4.99483119   3.74709098   1.45829013   0.05696309  -2.30756161]\n"
          ],
          "name": "stdout"
        },
        {
          "output_type": "display_data",
          "data": {
            "image/png": "[encoded data removed]",
            "text/plain": [
              "<Figure size 432x288 with 1 Axes>"
            ]
          },
          "metadata": {
            "tags": [],
            "needs_background": "light"
          }
        },
        {
          "output_type": "display_data",
          "data": {
            "image/png": "[encoded data removed]",
            "text/plain": [
              "<Figure size 432x288 with 1 Axes>"
            ]
          },
          "metadata": {
            "tags": [],
            "needs_background": "light"
          }
        }
      ]
    },
    {
      "cell_type": "code",
      "metadata": {
        "colab": {
          "base_uri": "https://localhost:8080/"
        },
        "id": "Z9ss8-_d5bBd",
        "outputId": "1702db75-d7ed-431a-ac67-66c9328b677d"
      },
      "source": [
        "print (h(10,w))"
      ],
      "execution_count": null,
      "outputs": [
        {
          "output_type": "stream",
          "text": [
            "-1.3255974718903022e+19\n"
          ],
          "name": "stdout"
        }
      ]
    }
  ]
}