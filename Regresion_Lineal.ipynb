{
  "nbformat": 4,
  "nbformat_minor": 0,
  "metadata": {
    "colab": {
      "name": "Regresion_Lineal.ipynb",
      "provenance": [],
      "collapsed_sections": [],
      "toc_visible": true,
      "include_colab_link": true
    },
    "kernelspec": {
      "name": "python3",
      "display_name": "Python 3"
    },
    "language_info": {
      "name": "python"
    }
  },
  "cells": [
    {
      "cell_type": "markdown",
      "metadata": {
        "id": "view-in-github",
        "colab_type": "text"
      },
      "source": [
        "<a href=\"https://colab.research.google.com/github/larax2do/AprendiendoIA/blob/main/Regresion_Lineal.ipynb\" target=\"_parent\"><img src=\"https://colab.research.google.com/assets/colab-badge.svg\" alt=\"Open In Colab\"/></a>"
      ]
    },
    {
      "cell_type": "markdown",
      "metadata": {
        "id": "MvtGHtUQD9K9"
      },
      "source": [
        "# 4 Regression Loss Functions"
      ]
    },
    {
      "cell_type": "code",
      "metadata": {
        "id": "nPPFwk0KrlAd"
      },
      "source": [
        "import numpy as np\n",
        "import matplotlib.pyplot as plt"
      ],
      "execution_count": 2,
      "outputs": []
    },
    {
      "cell_type": "code",
      "metadata": {
        "id": "D0rx_kWC4TvJ"
      },
      "source": [
        "x_ds = [i for i in range(20)]\n",
        "y_ds = [ i + np.random.normal(0,1) for i in x_ds ]"
      ],
      "execution_count": 3,
      "outputs": []
    },
    {
      "cell_type": "markdown",
      "metadata": {
        "id": "I-v_WDROscxd"
      },
      "source": [
        "## Hipotesis\n",
        "$h(x_i) = w_0 + w_1x_i$\n"
      ]
    },
    {
      "cell_type": "code",
      "metadata": {
        "id": "srUioS4vsoxa"
      },
      "source": [
        "\n",
        "def h(x,w):\n",
        "  return w[0] + w[1]*x\n"
      ],
      "execution_count": 4,
      "outputs": []
    },
    {
      "cell_type": "markdown",
      "metadata": {
        "id": "Ycdu7oppucmu"
      },
      "source": [
        "## Funciones de Perdida\n",
        "\n",
        "### Error cuadratico medio\n",
        "\n",
        "> $MSE =  \\frac{1}{2n}\\sum_{i=0}(y_i - h(x_i))²$\n",
        "\n",
        "### Error absoluto medio\n",
        "\n",
        "> $MAE = \\frac{1}{n} \\sum_{i=0}^{n} |y_i- h(x_i)|$\n",
        "\n",
        "### Error Huber\n",
        "\n",
        "> $   \n",
        "Huber = \n",
        "     \\begin{cases}\n",
        "       \\text{$\\frac{1}{2}(y_i-h(x_i))^2$,} &\\quad\\text{for $ \\left | y_i-h(x_i) \\right |\\leq\\delta  $}\\\\\n",
        "       \\text{$ \\delta \\left | y_i-h(x_i) \\right |-\\frac{1}{2}\\delta^2 $,} &\\quad\\text{otherwise.} \\\\ \n",
        "     \\end{cases}\n",
        "$\n",
        "\n",
        "### Error Log Cosh\n",
        "\n",
        "> $Log Cosh=\\sum_{i=1}^{n} log(cosh(y_i-h(x_i))) $"
      ]
    },
    {
      "cell_type": "code",
      "metadata": {
        "id": "ca4XWaK4ub2f"
      },
      "source": [
        "def ErrorMSE(y,x,w):\n",
        " return sum( [ (e[0] - h(e[1],w))**2 for  e in zip(y,x) ])/(2*len(y))\n",
        "\n",
        "\n",
        "def ErrorMae(y,x,w):\n",
        " return sum( [ abs(e[0] - h(e[1],w)) for  e in zip(y,x) ])/(len(y))\n",
        "\n",
        "\n",
        "def ErrorHuber(y,x,w,delta):\n",
        "  return sum(([ (np.where(e[0] - h(e[1],w)<=delta,0.5*((e[0]-h(e[1],w))**2),delta*abs(e[0]-h(e[1],w)) - 0.5*(delta**2)))  for  e in zip(y_ds,x_ds) ]))/len(y)\n",
        "\n",
        "def ErrorLogCosh(y,x,w):\n",
        "  return sum([ np.log10(np.cosh(e[0] - h(e[1],w))) for e in zip(y,x) ])\n",
        "\n",
        "\n"
      ],
      "execution_count": 12,
      "outputs": []
    },
    {
      "cell_type": "markdown",
      "metadata": {
        "id": "hWHymu8ZxHw8"
      },
      "source": [
        "## Derivadas MSE \n",
        "\n",
        "$Error =  \\frac{1}{2n}\\sum_{i=0}^n(y_i - h(x_i))²$\n",
        "\n",
        "\n",
        "\n",
        "$\\frac{ \\partial Error}{\\partial w_0}  = \\frac{1}{n}\\sum_{i=0}^n(y_i - h(x_i))*(-1) $\n",
        "\n",
        "$\\frac{ \\partial Error}{\\partial w_1}  = \\frac{1}{n}\\sum_{i=0}^n(y_i - h(x_i))*(-x) $\n"
      ]
    },
    {
      "cell_type": "code",
      "metadata": {
        "id": "g-C4zD6uxGYz"
      },
      "source": [
        "def grad(y,x,w):\n",
        "  grad_w0 = sum([ (e[0] - h(e[1],w))*(-1) for e in zip(y,x) ])/len(y)\n",
        "  grad_w1 = sum([ (e[0] - h(e[1],w))*(-e[1]) for e in zip(y,x) ])/len(y)\n",
        "  return grad_w0, grad_w1"
      ],
      "execution_count": null,
      "outputs": []
    },
    {
      "cell_type": "markdown",
      "metadata": {
        "id": "6ev0_TmIRRnx"
      },
      "source": [
        "## Derivadas MAE\n",
        "\n",
        "$Error = \\frac{1}{n} \\sum_{i=0}^{n} |y_i- h(x_i)|$\n",
        "\n",
        "$\\frac{ \\partial Error}{\\partial w_0}  = \\frac{1}{n}\\sum_{i=0}\\frac{(y_i - h(x_i))*(-1)}{|y_i - h(x_i)|} $\n",
        "\n",
        "$\\frac{ \\partial Error}{\\partial w_1}  = \\frac{1}{n}\\sum_{i=0}\\frac{(y_i - h(x_i))*(-x)}{|y_i - h(x_i)|} $"
      ]
    },
    {
      "cell_type": "code",
      "metadata": {
        "id": "_cZmgGNux0HO"
      },
      "source": [
        "def gradMae(y,x,w):\n",
        "  grad_w0 = sum([ (e[0] - h(e[1],w))/abs(e[0] - h(e[1],w))*(-1)    for e in zip(y,x) ])/len(y)\n",
        "  grad_w1 = sum([ (e[0] - h(e[1],w))/abs(e[0] - h(e[1],w))*(-e[1]) for e in zip(y,x) ])/len(y)\n",
        "  return grad_w0, grad_w1"
      ],
      "execution_count": null,
      "outputs": []
    },
    {
      "cell_type": "markdown",
      "metadata": {
        "id": "HYo5S7mPSQB2"
      },
      "source": [
        "## Derivadas Huber\n",
        "\n",
        "> $   \n",
        "Huber = \n",
        "     \\begin{cases}\n",
        "       \\text{$\\frac{1}{2}(y_i-h(x_i))^2$,} &\\quad\\text{for $ \\left | y_i-h(x_i) \\right |\\leq\\delta  $}\\\\\n",
        "       \\text{$ \\delta \\left | y_i-h(x_i) \\right |-\\frac{1}{2}\\delta^2 $,} &\\quad\\text{otherwise.} \\\\ \n",
        "     \\end{cases}\n",
        "$\n",
        "\n",
        "Cuando $|y_i-h(x_i)| \\leq \\delta$\n",
        ">  $\\frac{\\partial Huber}{\\partial w_0}=\\frac{1}{2}(y_i-h(x_i))*(-1)$\n",
        "\n",
        ">  $\\frac{\\partial Huber}{\\partial w_1}=\\frac{1}{2}(y_i-h(x_i))*(-x)$\n",
        "\n",
        "Otros casos\n",
        ">  $\\frac{\\partial Huber}{\\partial w_0}=\\frac{\\delta}{n}\\frac{(y_i - h(x_i))*(-1)}{|y_i - h(x_i)|}$\n",
        "\n",
        ">  $\\frac{\\partial Huber}{\\partial w_1}=\\frac{\\delta}{n}\\frac{(y_i - h(x_i))*(-x)}{|y_i - h(x_i)|}$"
      ]
    },
    {
      "cell_type": "code",
      "metadata": {
        "id": "pxdR66bBf1cR"
      },
      "source": [
        "delta=10"
      ],
      "execution_count": 42,
      "outputs": []
    },
    {
      "cell_type": "code",
      "metadata": {
        "id": "zVdjPbgBThQY"
      },
      "source": [
        "def gradHuber(y,x,w,delta):\n",
        "  grad_w0= sum(([ (np.where(e[0] - h(e[1],w)<=delta,((e[0]-h(e[1],w))*(-1)),((e[0]-h(e[1],w))*delta)/abs(e[0]-h(e[1],w))))  for  e in zip(y,x) ]))*1/len(y)\n",
        "  grad_w1= sum(([ (np.where(e[0] - h(e[1],w)<=delta,((e[0]-h(e[1],w))*(-e[1])),((e[0]-h(e[1],w))*delta*e[1])/abs(e[0]-h(e[1],w))))  for  e in zip(y,x) ]))*1/len(y)\n",
        "  return grad_w0,grad_w1"
      ],
      "execution_count": 14,
      "outputs": []
    },
    {
      "cell_type": "markdown",
      "metadata": {
        "id": "RZnWdBX4zGGI"
      },
      "source": [
        "## Derivadas LOG COSH\n",
        "\n",
        "\n",
        "$Log Cosh=\\sum_{i=1}^{n} log(cosh(y_i-(w_0+w_1x))) $\n",
        "\n",
        "$\\frac{ \\partial Error}{\\partial w_0}  =  \\sum_{i=1}^{n} \\frac{sinh(y_i-(w_0+w_1x))}{cosh(y_i-(w_0+w_1x))}(-1)$\n",
        "\n",
        "$\\frac{ \\partial Error}{\\partial w_1}  =  \\sum_{i=1}^{n} \\frac{sinh(y_i-(w_0+w_1x))}{cosh(y_i-(w_0+w_1x))}(-x)$\n",
        "\n"
      ]
    },
    {
      "cell_type": "code",
      "metadata": {
        "id": "ktyLhRLRdzwx"
      },
      "source": [
        "def gradLogCosh(y,x,w):\n",
        "  grad_w0 = sum([ ((np.sinh(e[0]-h(e[1],w)))*(-1)/((np.cosh(e[0]-h(e[1],w)))*np.log(10))) for e in zip(y,x) ])\n",
        "  grad_w1 = sum([ ((np.sinh(e[0]-h(e[1],w)))*(-e[1])/((np.cosh(e[0]-h(e[1],w)))*np.log(10))) for e in zip(y,x) ])\n",
        "  return grad_w0, grad_w1"
      ],
      "execution_count": null,
      "outputs": []
    },
    {
      "cell_type": "code",
      "metadata": {
        "id": "GY52Ysst1tgx"
      },
      "source": [
        "\n",
        "x_ds = [i for i in range(30)]\n",
        "y_ds = [ i + np.random.normal(0,3)+20 for i in x_ds ]\n"
      ],
      "execution_count": null,
      "outputs": []
    },
    {
      "cell_type": "markdown",
      "metadata": {
        "id": "oBMbzp0MgNUZ"
      },
      "source": [
        "## Entrenamiento"
      ]
    },
    {
      "cell_type": "code",
      "metadata": {
        "id": "f6Pf2pBbvL4-"
      },
      "source": [
        "\n",
        "\n",
        "def train(x_ds, y_ds, w, epochs, alpha):\n",
        "  #w = np.random.rand(2)\n",
        "  list_error = []\n",
        "  time = []\n",
        "  \n",
        "  for i in range(epochs):\n",
        "    print(w)\n",
        "    Err = ErrorHuber(y_ds,x_ds,w,delta)\n",
        "    list_error.append(Err)\n",
        "    time.append(i)\n",
        "    grad_w0, grad_w1 = gradHuber(y_ds,x_ds,w,delta)\n",
        "    w[0] = w[0] - alpha*grad_w0\n",
        "    w[1] = w[1] - alpha*grad_w1\n"
      ],
      "execution_count": 16,
      "outputs": []
    },
    {
      "cell_type": "markdown",
      "metadata": {
        "id": "BP4t6xx_gLT4"
      },
      "source": [
        "## Pruebas"
      ]
    },
    {
      "cell_type": "code",
      "metadata": {
        "id": "4SToiaiF5I_u",
        "colab": {
          "base_uri": "https://localhost:8080/",
          "height": 1000
        },
        "outputId": "7b3122be-95da-49b5-db6a-7b09691f05b8"
      },
      "source": [
        "x_ds = [i for i in range(50)]\n",
        "y_ds = [ i + np.random.normal(0,1) for i in x_ds ]\n",
        "\n",
        "\n",
        "\n",
        "w = np.random.rand(2)\n",
        "print(w)\n",
        "y_pd  = [ h(i,w) for i in x_ds ]\n",
        "plt.plot(x_ds,y_ds, '*')\n",
        "plt.plot(x_ds,y_pd)\n",
        "\n",
        "print(\"Error  :\" + str(ErrorHuber(y_ds, x_ds,w,delta)))\n",
        "\n",
        "train(x_ds,y_ds, w, 200,0.001)\n",
        "\n",
        "plt.plot(x_ds, y_ds,'*')\n",
        "plt.plot(x_ds, [ h(i,w) for i in x_ds],color='red')\n",
        "\n",
        "print(\"Error  :\" + str(ErrorHuber(y_ds, x_ds,w,delta)))\n",
        "\n"
      ],
      "execution_count": 43,
      "outputs": [
        {
          "output_type": "stream",
          "text": [
            "[0.91893629 0.82110409]\n",
            "Error  :9.24563724559256\n",
            "[0.91893629 0.82110409]\n",
            "[0.92244373 0.93991007]\n",
            "[0.92303692 0.96257548]\n",
            "[0.92307422 0.96690137]\n",
            "[0.92300549 0.96772887]\n",
            "[0.92291655 0.96788902]\n",
            "[0.92282379 0.96792186]\n",
            "[0.92273031 0.96793043]\n",
            "[0.92263671 0.96793436]\n",
            "[0.92254311 0.9679374 ]\n",
            "[0.92244953 0.96794028]\n",
            "[0.92235597 0.96794312]\n",
            "[0.92226244 0.96794596]\n",
            "[0.92216893 0.96794879]\n",
            "[0.92207544 0.96795163]\n",
            "[0.92198198 0.96795446]\n",
            "[0.92188855 0.96795729]\n",
            "[0.92179513 0.96796012]\n",
            "[0.92170174 0.96796296]\n",
            "[0.92160838 0.96796579]\n",
            "[0.92151504 0.96796862]\n",
            "[0.92142172 0.96797144]\n",
            "[0.92132843 0.96797427]\n",
            "[0.92123516 0.9679771 ]\n",
            "[0.92114192 0.96797993]\n",
            "[0.92104869 0.96798275]\n",
            "[0.9209555  0.96798558]\n",
            "[0.92086232 0.9679884 ]\n",
            "[0.92076918 0.96799122]\n",
            "[0.92067605 0.96799405]\n",
            "[0.92058295 0.96799687]\n",
            "[0.92048987 0.96799969]\n",
            "[0.92039682 0.96800251]\n",
            "[0.92030379 0.96800533]\n",
            "[0.92021079 0.96800815]\n",
            "[0.9201178  0.96801097]\n",
            "[0.92002485 0.96801379]\n",
            "[0.91993191 0.9680166 ]\n",
            "[0.919839   0.96801942]\n",
            "[0.91974612 0.96802224]\n",
            "[0.91965326 0.96802505]\n",
            "[0.91956042 0.96802786]\n",
            "[0.91946761 0.96803068]\n",
            "[0.91937482 0.96803349]\n",
            "[0.91928205 0.9680363 ]\n",
            "[0.91918931 0.96803911]\n",
            "[0.91909659 0.96804192]\n",
            "[0.91900389 0.96804473]\n",
            "[0.91891122 0.96804754]\n",
            "[0.91881858 0.96805035]\n",
            "[0.91872595 0.96805316]\n",
            "[0.91863336 0.96805597]\n",
            "[0.91854078 0.96805877]\n",
            "[0.91844823 0.96806158]\n",
            "[0.9183557  0.96806438]\n",
            "[0.9182632  0.96806719]\n",
            "[0.91817072 0.96806999]\n",
            "[0.91807826 0.96807279]\n",
            "[0.91798583 0.96807559]\n",
            "[0.91789342 0.9680784 ]\n",
            "[0.91780103 0.9680812 ]\n",
            "[0.91770867 0.968084  ]\n",
            "[0.91761634 0.9680868 ]\n",
            "[0.91752402 0.96808959]\n",
            "[0.91743173 0.96809239]\n",
            "[0.91733947 0.96809519]\n",
            "[0.91724722 0.96809798]\n",
            "[0.91715501 0.96810078]\n",
            "[0.91706281 0.96810357]\n",
            "[0.91697064 0.96810637]\n",
            "[0.91687849 0.96810916]\n",
            "[0.91678637 0.96811195]\n",
            "[0.91669427 0.96811475]\n",
            "[0.91660219 0.96811754]\n",
            "[0.91651014 0.96812033]\n",
            "[0.91641811 0.96812312]\n",
            "[0.91632611 0.96812591]\n",
            "[0.91623412 0.96812869]\n",
            "[0.91614217 0.96813148]\n",
            "[0.91605023 0.96813427]\n",
            "[0.91595832 0.96813705]\n",
            "[0.91586644 0.96813984]\n",
            "[0.91577457 0.96814262]\n",
            "[0.91568273 0.96814541]\n",
            "[0.91559092 0.96814819]\n",
            "[0.91549912 0.96815097]\n",
            "[0.91540736 0.96815376]\n",
            "[0.91531561 0.96815654]\n",
            "[0.91522389 0.96815932]\n",
            "[0.91513219 0.9681621 ]\n",
            "[0.91504052 0.96816488]\n",
            "[0.91494887 0.96816765]\n",
            "[0.91485724 0.96817043]\n",
            "[0.91476564 0.96817321]\n",
            "[0.91467406 0.96817598]\n",
            "[0.9145825  0.96817876]\n",
            "[0.91449097 0.96818153]\n",
            "[0.91439946 0.96818431]\n",
            "[0.91430797 0.96818708]\n",
            "[0.91421651 0.96818985]\n",
            "[0.91412507 0.96819262]\n",
            "[0.91403365 0.9681954 ]\n",
            "[0.91394226 0.96819817]\n",
            "[0.9138509  0.96820094]\n",
            "[0.91375955 0.9682037 ]\n",
            "[0.91366823 0.96820647]\n",
            "[0.91357693 0.96820924]\n",
            "[0.91348566 0.96821201]\n",
            "[0.91339441 0.96821477]\n",
            "[0.91330318 0.96821754]\n",
            "[0.91321198 0.9682203 ]\n",
            "[0.9131208  0.96822307]\n",
            "[0.91302964 0.96822583]\n",
            "[0.91293851 0.96822859]\n",
            "[0.9128474  0.96823135]\n",
            "[0.91275631 0.96823412]\n",
            "[0.91266525 0.96823688]\n",
            "[0.91257421 0.96823964]\n",
            "[0.91248319 0.96824239]\n",
            "[0.9123922  0.96824515]\n",
            "[0.91230123 0.96824791]\n",
            "[0.91221028 0.96825067]\n",
            "[0.91211936 0.96825342]\n",
            "[0.91202846 0.96825618]\n",
            "[0.91193759 0.96825893]\n",
            "[0.91184674 0.96826169]\n",
            "[0.91175591 0.96826444]\n",
            "[0.9116651  0.96826719]\n",
            "[0.91157432 0.96826994]\n",
            "[0.91148356 0.9682727 ]\n",
            "[0.91139283 0.96827545]\n",
            "[0.91130211 0.9682782 ]\n",
            "[0.91121142 0.96828095]\n",
            "[0.91112076 0.96828369]\n",
            "[0.91103012 0.96828644]\n",
            "[0.9109395  0.96828919]\n",
            "[0.9108489  0.96829193]\n",
            "[0.91075833 0.96829468]\n",
            "[0.91066778 0.96829742]\n",
            "[0.91057726 0.96830017]\n",
            "[0.91048675 0.96830291]\n",
            "[0.91039628 0.96830565]\n",
            "[0.91030582 0.9683084 ]\n",
            "[0.91021539 0.96831114]\n",
            "[0.91012498 0.96831388]\n",
            "[0.91003459 0.96831662]\n",
            "[0.90994423 0.96831936]\n",
            "[0.90985389 0.9683221 ]\n",
            "[0.90976358 0.96832483]\n",
            "[0.90967328 0.96832757]\n",
            "[0.90958301 0.96833031]\n",
            "[0.90949277 0.96833304]\n",
            "[0.90940254 0.96833578]\n",
            "[0.90931234 0.96833851]\n",
            "[0.90922217 0.96834124]\n",
            "[0.90913201 0.96834398]\n",
            "[0.90904188 0.96834671]\n",
            "[0.90895178 0.96834944]\n",
            "[0.90886169 0.96835217]\n",
            "[0.90877163 0.9683549 ]\n",
            "[0.90868159 0.96835763]\n",
            "[0.90859158 0.96836036]\n",
            "[0.90850159 0.96836309]\n",
            "[0.90841162 0.96836581]\n",
            "[0.90832168 0.96836854]\n",
            "[0.90823176 0.96837127]\n",
            "[0.90814186 0.96837399]\n",
            "[0.90805198 0.96837672]\n",
            "[0.90796213 0.96837944]\n",
            "[0.9078723  0.96838216]\n",
            "[0.90778249 0.96838489]\n",
            "[0.90769271 0.96838761]\n",
            "[0.90760295 0.96839033]\n",
            "[0.90751321 0.96839305]\n",
            "[0.9074235  0.96839577]\n",
            "[0.90733381 0.96839849]\n",
            "[0.90724414 0.9684012 ]\n",
            "[0.9071545  0.96840392]\n",
            "[0.90706488 0.96840664]\n",
            "[0.90697528 0.96840935]\n",
            "[0.9068857  0.96841207]\n",
            "[0.90679615 0.96841478]\n",
            "[0.90670662 0.9684175 ]\n",
            "[0.90661712 0.96842021]\n",
            "[0.90652763 0.96842292]\n",
            "[0.90643817 0.96842564]\n",
            "[0.90634874 0.96842835]\n",
            "[0.90625932 0.96843106]\n",
            "[0.90616993 0.96843377]\n",
            "[0.90608056 0.96843648]\n",
            "[0.90599122 0.96843918]\n",
            "[0.9059019  0.96844189]\n",
            "[0.9058126 0.9684446]\n",
            "[0.90572332 0.9684473 ]\n",
            "[0.90563407 0.96845001]\n",
            "[0.90554484 0.96845271]\n",
            "[0.90545563 0.96845542]\n",
            "[0.90536645 0.96845812]\n",
            "[0.90527729 0.96846082]\n",
            "[0.90518815 0.96846353]\n",
            "Error  :0.5153375912895861\n"
          ],
          "name": "stdout"
        },
        {
          "output_type": "display_data",
          "data": {
            "image/png": "[encoded data removed]",
            "text/plain": [
              "<Figure size 432x288 with 1 Axes>"
            ]
          },
          "metadata": {
            "tags": [],
            "needs_background": "light"
          }
        }
      ]
    },
    {
      "cell_type": "code",
      "metadata": {
        "id": "gy1vKzjflaam"
      },
      "source": [
        ""
      ],
      "execution_count": null,
      "outputs": []
    }
  ]
}